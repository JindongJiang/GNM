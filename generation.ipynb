{
 "cells": [
  {
   "cell_type": "code",
   "execution_count": null,
   "metadata": {
    "ExecuteTime": {
     "end_time": "2020-12-07T17:28:53.774643Z",
     "start_time": "2020-12-07T17:28:51.940351Z"
    }
   },
   "outputs": [],
   "source": [
    "import os\n",
    "import time\n",
    "import torch\n",
    "import math\n",
    "import yaml\n",
    "\n",
    "import numpy as np\n",
    "from torchvision.utils import make_grid, save_image\n",
    "from utils import load_ckpt, linear_schedule\n",
    "\n",
    "from default_config import get_cfg_defaults\n",
    "\n",
    "from model import GNM\n",
    "torch.backends.cudnn.benchmark=True"
   ]
  },
  {
   "cell_type": "code",
   "execution_count": null,
   "metadata": {
    "ExecuteTime": {
     "end_time": "2020-12-07T17:29:01.109877Z",
     "start_time": "2020-12-07T17:29:01.103541Z"
    }
   },
   "outputs": [],
   "source": [
    "# exp_name = 'arrow'\n",
    "\n",
    "# exp_name = 'mnist-4'\n",
    "\n",
    "exp_name = 'mnist-10'"
   ]
  },
  {
   "cell_type": "code",
   "execution_count": null,
   "metadata": {
    "ExecuteTime": {
     "end_time": "2020-12-07T17:29:02.053385Z",
     "start_time": "2020-12-07T17:29:02.028565Z"
    }
   },
   "outputs": [],
   "source": [
    "def get_config():\n",
    "    cfg = get_cfg_defaults()\n",
    "    cfg.merge_from_file(f'./config/{exp_name}.yaml')\n",
    "    return cfg"
   ]
  },
  {
   "cell_type": "code",
   "execution_count": null,
   "metadata": {
    "ExecuteTime": {
     "end_time": "2020-12-07T17:29:02.764066Z",
     "start_time": "2020-12-07T17:29:02.745780Z"
    }
   },
   "outputs": [],
   "source": [
    "args = get_config()"
   ]
  },
  {
   "cell_type": "code",
   "execution_count": null,
   "metadata": {
    "ExecuteTime": {
     "end_time": "2020-12-07T17:29:03.687001Z",
     "start_time": "2020-12-07T17:29:03.534670Z"
    }
   },
   "outputs": [],
   "source": [
    "device = torch.device(\"cuda\" if torch.cuda.is_available() else \"cpu\")\n",
    "model = GNM(args)\n",
    "model.to(device)\n",
    "\n",
    "global_step, args.train.start_epoch = \\\n",
    "            load_ckpt(model, None, f\"./pretrained/{exp_name}.pth\", device)"
   ]
  },
  {
   "cell_type": "code",
   "execution_count": null,
   "metadata": {
    "ExecuteTime": {
     "end_time": "2020-12-07T17:29:04.630946Z",
     "start_time": "2020-12-07T17:29:04.612301Z"
    }
   },
   "outputs": [],
   "source": [
    "def hyperparam_anneal(args, global_step):\n",
    "    if args.train.beta_aux_pres_anneal_end_step == 0:\n",
    "        args.train.beta_aux_pres = args.train.beta_aux_pres_anneal_start_value\n",
    "    else:\n",
    "        args.train.beta_aux_pres = linear_schedule(\n",
    "            global_step,\n",
    "            args.train.beta_aux_pres_anneal_start_step,\n",
    "            args.train.beta_aux_pres_anneal_end_step,\n",
    "            args.train.beta_aux_pres_anneal_start_value,\n",
    "            args.train.beta_aux_pres_anneal_end_value\n",
    "        )\n",
    "\n",
    "    if args.train.beta_aux_where_anneal_end_step == 0:\n",
    "        args.train.beta_aux_where = args.train.beta_aux_where_anneal_start_value\n",
    "    else:\n",
    "        args.train.beta_aux_where = linear_schedule(\n",
    "            global_step,\n",
    "            args.train.beta_aux_where_anneal_start_step,\n",
    "            args.train.beta_aux_where_anneal_end_step,\n",
    "            args.train.beta_aux_where_anneal_start_value,\n",
    "            args.train.beta_aux_where_anneal_end_value\n",
    "        )\n",
    "\n",
    "    if args.train.beta_aux_what_anneal_end_step == 0:\n",
    "        args.train.beta_aux_what = args.train.beta_aux_what_anneal_start_value\n",
    "    else:\n",
    "        args.train.beta_aux_what = linear_schedule(\n",
    "            global_step,\n",
    "            args.train.beta_aux_what_anneal_start_step,\n",
    "            args.train.beta_aux_what_anneal_end_step,\n",
    "            args.train.beta_aux_what_anneal_start_value,\n",
    "            args.train.beta_aux_what_anneal_end_value\n",
    "        )\n",
    "\n",
    "    if args.train.beta_aux_depth_anneal_end_step == 0:\n",
    "        args.train.beta_aux_depth = args.train.beta_aux_depth_anneal_start_value\n",
    "    else:\n",
    "        args.train.beta_aux_depth = linear_schedule(\n",
    "            global_step,\n",
    "            args.train.beta_aux_depth_anneal_start_step,\n",
    "            args.train.beta_aux_depth_anneal_end_step,\n",
    "            args.train.beta_aux_depth_anneal_start_value,\n",
    "            args.train.beta_aux_depth_anneal_end_value\n",
    "        )\n",
    "\n",
    "    if args.train.beta_aux_global_anneal_end_step == 0:\n",
    "        args.train.beta_aux_global = args.train.beta_aux_global_anneal_start_value\n",
    "    else:\n",
    "        args.train.beta_aux_global = linear_schedule(\n",
    "            global_step,\n",
    "            args.train.beta_aux_global_anneal_start_step,\n",
    "            args.train.beta_aux_global_anneal_end_step,\n",
    "            args.train.beta_aux_global_anneal_start_value,\n",
    "            args.train.beta_aux_global_anneal_end_value\n",
    "        )\n",
    "\n",
    "    if args.train.beta_aux_bg_anneal_end_step == 0:\n",
    "        args.train.beta_aux_bg = args.train.beta_aux_bg_anneal_start_value\n",
    "    else:\n",
    "        args.train.beta_aux_bg = linear_schedule(\n",
    "            global_step,\n",
    "            args.train.beta_aux_bg_anneal_start_step,\n",
    "            args.train.beta_aux_bg_anneal_end_step,\n",
    "            args.train.beta_aux_bg_anneal_start_value,\n",
    "            args.train.beta_aux_bg_anneal_end_value\n",
    "        )\n",
    "\n",
    "    ########################### split here ###########################\n",
    "    if args.train.beta_pres_anneal_end_step == 0:\n",
    "        args.train.beta_pres = args.train.beta_pres_anneal_start_value\n",
    "    else:\n",
    "        args.train.beta_pres = linear_schedule(\n",
    "            global_step,\n",
    "            args.train.beta_pres_anneal_start_step,\n",
    "            args.train.beta_pres_anneal_end_step,\n",
    "            args.train.beta_pres_anneal_start_value,\n",
    "            args.train.beta_pres_anneal_end_value\n",
    "        )\n",
    "\n",
    "    if args.train.beta_where_anneal_end_step == 0:\n",
    "        args.train.beta_where = args.train.beta_where_anneal_start_value\n",
    "    else:\n",
    "        args.train.beta_where = linear_schedule(\n",
    "            global_step,\n",
    "            args.train.beta_where_anneal_start_step,\n",
    "            args.train.beta_where_anneal_end_step,\n",
    "            args.train.beta_where_anneal_start_value,\n",
    "            args.train.beta_where_anneal_end_value\n",
    "        )\n",
    "\n",
    "    if args.train.beta_what_anneal_end_step == 0:\n",
    "        args.train.beta_what = args.train.beta_what_anneal_start_value\n",
    "    else:\n",
    "        args.train.beta_what = linear_schedule(\n",
    "            global_step,\n",
    "            args.train.beta_what_anneal_start_step,\n",
    "            args.train.beta_what_anneal_end_step,\n",
    "            args.train.beta_what_anneal_start_value,\n",
    "            args.train.beta_what_anneal_end_value\n",
    "        )\n",
    "\n",
    "    if args.train.beta_depth_anneal_end_step == 0:\n",
    "        args.train.beta_depth = args.train.beta_depth_anneal_start_value\n",
    "    else:\n",
    "        args.train.beta_depth = linear_schedule(\n",
    "            global_step,\n",
    "            args.train.beta_depth_anneal_start_step,\n",
    "            args.train.beta_depth_anneal_end_step,\n",
    "            args.train.beta_depth_anneal_start_value,\n",
    "            args.train.beta_depth_anneal_end_value\n",
    "        )\n",
    "\n",
    "    if args.train.beta_global_anneal_end_step == 0:\n",
    "        args.train.beta_global = args.train.beta_global_anneal_start_value\n",
    "    else:\n",
    "        args.train.beta_global = linear_schedule(\n",
    "            global_step,\n",
    "            args.train.beta_global_anneal_start_step,\n",
    "            args.train.beta_global_anneal_end_step,\n",
    "            args.train.beta_global_anneal_start_value,\n",
    "            args.train.beta_global_anneal_end_value\n",
    "        )\n",
    "\n",
    "    if args.train.tau_pres_anneal_end_step == 0:\n",
    "        args.train.tau_pres = args.train.tau_pres_anneal_start_value\n",
    "    else:\n",
    "        args.train.tau_pres = linear_schedule(\n",
    "            global_step,\n",
    "            args.train.tau_pres_anneal_start_step,\n",
    "            args.train.tau_pres_anneal_end_step,\n",
    "            args.train.tau_pres_anneal_start_value,\n",
    "            args.train.tau_pres_anneal_end_value\n",
    "        )\n",
    "\n",
    "    if args.train.beta_bg_anneal_end_step == 0:\n",
    "        args.train.beta_bg = args.train.beta_bg_anneal_start_value\n",
    "    else:\n",
    "        args.train.beta_bg = linear_schedule(\n",
    "            global_step,\n",
    "            args.train.beta_bg_anneal_start_step,\n",
    "            args.train.beta_bg_anneal_end_step,\n",
    "            args.train.beta_bg_anneal_start_value,\n",
    "            args.train.beta_bg_anneal_end_value\n",
    "        )\n",
    "\n",
    "    return"
   ]
  },
  {
   "cell_type": "code",
   "execution_count": null,
   "metadata": {
    "ExecuteTime": {
     "end_time": "2020-12-07T17:29:05.334765Z",
     "start_time": "2020-12-07T17:29:05.330123Z"
    }
   },
   "outputs": [],
   "source": [
    "args.train.global_step = global_step\n",
    "hyperparam_anneal(args, global_step)\n",
    "args.log.phase_log = False"
   ]
  },
  {
   "cell_type": "code",
   "execution_count": null,
   "metadata": {
    "ExecuteTime": {
     "end_time": "2020-12-07T17:29:11.597178Z",
     "start_time": "2020-12-07T17:29:05.894291Z"
    }
   },
   "outputs": [],
   "source": [
    "result_dir = f'./generations-new/{exp_name}/'\n",
    "if not os.path.isdir(result_dir):\n",
    "    os.makedirs(result_dir)\n",
    "    \n",
    "with torch.no_grad():\n",
    "    model.eval()\n",
    "    for i in range(5):\n",
    "        sample = model.sample(phase_use_mode=True)[0]\n",
    "        save_image(sample[0].cpu().detach().clamp(0, 1), os.path.join(result_dir, f'{i}.png'), 5, normalize=False, pad_value=1)"
   ]
  },
  {
   "cell_type": "code",
   "execution_count": null,
   "metadata": {},
   "outputs": [],
   "source": []
  }
 ],
 "metadata": {
  "kernelspec": {
   "display_name": "Python 3",
   "language": "python",
   "name": "python3"
  },
  "language_info": {
   "codemirror_mode": {
    "name": "ipython",
    "version": 3
   },
   "file_extension": ".py",
   "mimetype": "text/x-python",
   "name": "python",
   "nbconvert_exporter": "python",
   "pygments_lexer": "ipython3",
   "version": "3.8.5"
  },
  "toc": {
   "base_numbering": 1,
   "nav_menu": {},
   "number_sections": true,
   "sideBar": true,
   "skip_h1_title": false,
   "title_cell": "Table of Contents",
   "title_sidebar": "Contents",
   "toc_cell": false,
   "toc_position": {},
   "toc_section_display": true,
   "toc_window_display": false
  },
  "varInspector": {
   "cols": {
    "lenName": 16,
    "lenType": 16,
    "lenVar": 40
   },
   "kernels_config": {
    "python": {
     "delete_cmd_postfix": "",
     "delete_cmd_prefix": "del ",
     "library": "var_list.py",
     "varRefreshCmd": "print(var_dic_list())"
    },
    "r": {
     "delete_cmd_postfix": ") ",
     "delete_cmd_prefix": "rm(",
     "library": "var_list.r",
     "varRefreshCmd": "cat(var_dic_list()) "
    }
   },
   "types_to_exclude": [
    "module",
    "function",
    "builtin_function_or_method",
    "instance",
    "_Feature"
   ],
   "window_display": false
  }
 },
 "nbformat": 4,
 "nbformat_minor": 4
}